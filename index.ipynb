{
 "cells": [
  {
   "cell_type": "code",
   "execution_count": 22,
   "metadata": {},
   "outputs": [],
   "source": [
    "import pandas as pd\n",
    "import numpy as np\n",
    "np.random.seed(0)\n",
    "import matplotlib.pyplot as plt\n",
    "%matplotlib inline"
   ]
  },
  {
   "cell_type": "code",
   "execution_count": 2,
   "metadata": {},
   "outputs": [],
   "source": [
    "df = pd.DataFrame()"
   ]
  },
  {
   "cell_type": "code",
   "execution_count": 8,
   "metadata": {},
   "outputs": [],
   "source": [
    "x1 = np.random.randint(0, 2, size=(1000,))"
   ]
  },
  {
   "cell_type": "code",
   "execution_count": 9,
   "metadata": {},
   "outputs": [],
   "source": [
    "df['x1'] = x1"
   ]
  },
  {
   "cell_type": "code",
   "execution_count": 16,
   "metadata": {},
   "outputs": [],
   "source": [
    "x2 = np.random.randint(13, 107, size=(1000),)"
   ]
  },
  {
   "cell_type": "code",
   "execution_count": 17,
   "metadata": {},
   "outputs": [],
   "source": [
    "df['x2'] = x2"
   ]
  },
  {
   "cell_type": "code",
   "execution_count": 18,
   "metadata": {},
   "outputs": [],
   "source": [
    "x3 = np.random.exponential?"
   ]
  },
  {
   "cell_type": "code",
   "execution_count": 19,
   "metadata": {},
   "outputs": [],
   "source": [
    "x3 = np.random.exponential(4, size=(1000),)"
   ]
  },
  {
   "cell_type": "code",
   "execution_count": 20,
   "metadata": {},
   "outputs": [],
   "source": [
    "df['x3'] = x3"
   ]
  },
  {
   "cell_type": "code",
   "execution_count": 24,
   "metadata": {},
   "outputs": [],
   "source": [
    "x4 = np.random.multivariate_normal?"
   ]
  },
  {
   "cell_type": "code",
   "execution_count": 25,
   "metadata": {},
   "outputs": [],
   "source": [
    "x4 = np.random.normal?"
   ]
  },
  {
   "cell_type": "code",
   "execution_count": 26,
   "metadata": {},
   "outputs": [],
   "source": [
    "x4 = np.random.normal(loc=-300.0, scale=250.0, size=(1000),)"
   ]
  },
  {
   "cell_type": "code",
   "execution_count": 27,
   "metadata": {},
   "outputs": [],
   "source": [
    "df['x4'] = x4"
   ]
  },
  {
   "cell_type": "code",
   "execution_count": 28,
   "metadata": {},
   "outputs": [
    {
     "data": {
      "text/plain": [
       "<matplotlib.axes._subplots.AxesSubplot at 0x1e727ef2390>"
      ]
     },
     "execution_count": 28,
     "metadata": {},
     "output_type": "execute_result"
    },
    {
     "data": {
      "image/png": "[encoded data removed]",
      "text/plain": [
       "<Figure size 432x288 with 1 Axes>"
      ]
     },
     "metadata": {
      "needs_background": "light"
     },
     "output_type": "display_data"
    }
   ],
   "source": [
    "df.x4.hist()"
   ]
  },
  {
   "cell_type": "code",
   "execution_count": 39,
   "metadata": {},
   "outputs": [],
   "source": [
    "x5_beta = np.random.normal(np.mean(df.x4), scale=np.abs(np.mean(df.x4)), size=(1000),)\n",
    "x5 = (1200.0 * df.x3) + (200.7 * df.x4) + x4_beta"
   ]
  },
  {
   "cell_type": "code",
   "execution_count": 40,
   "metadata": {},
   "outputs": [],
   "source": [
    "df['x5'] = x5 "
   ]
  },
  {
   "cell_type": "code",
   "execution_count": 41,
   "metadata": {},
   "outputs": [
    {
     "data": {
      "text/plain": [
       "<matplotlib.axes._subplots.AxesSubplot at 0x1e729d7f320>"
      ]
     },
     "execution_count": 41,
     "metadata": {},
     "output_type": "execute_result"
    },
    {
     "data": {
      "image/png": "[encoded data removed]",
      "text/plain": [
       "<Figure size 432x288 with 1 Axes>"
      ]
     },
     "metadata": {},
     "output_type": "display_data"
    }
   ],
   "source": [
    "df.x5.hist()"
   ]
  },
  {
   "cell_type": "code",
   "execution_count": 42,
   "metadata": {},
   "outputs": [
    {
     "data": {
      "text/plain": [
       "<matplotlib.axes._subplots.AxesSubplot at 0x1e729e5fc18>"
      ]
     },
     "execution_count": 42,
     "metadata": {},
     "output_type": "execute_result"
    },
    {
     "data": {
      "image/png": "[encoded data removed]",
      "text/plain": [
       "<Figure size 792x648 with 2 Axes>"
      ]
     },
     "metadata": {},
     "output_type": "display_data"
    }
   ],
   "source": [
    "import seaborn as sns\n",
    "\n",
    "sns.set(style=\"white\")\n",
    "\n",
    "# Generate a large random dataset\n",
    "d = df\n",
    "\n",
    "# Compute the correlation matrix\n",
    "corr = d.corr()\n",
    "\n",
    "# Generate a mask for the upper triangle\n",
    "mask = np.zeros_like(corr, dtype=np.bool)\n",
    "mask[np.triu_indices_from(mask)] = True\n",
    "\n",
    "# Set up the matplotlib figure\n",
    "f, ax = plt.subplots(figsize=(11, 9))\n",
    "\n",
    "# Generate a custom diverging colormap\n",
    "cmap = sns.diverging_palette(220, 10, as_cmap=True)\n",
    "\n",
    "# Draw the heatmap with the mask and correct aspect ratio\n",
    "sns.heatmap(corr, mask=mask, cmap=cmap, vmax=.3, center=0,\n",
    "            square=True, linewidths=.5, cbar_kws={\"shrink\": .5})"
   ]
  },
  {
   "cell_type": "markdown",
   "metadata": {},
   "source": [
    "# Gameplan\n",
    "\n",
    "1. Exponential regression, overfitting the data\n",
    "2. Make dataset with numpy\n",
    "3. Create and run unscaled regression\n",
    "4. categorical columns not one hot encoded\n",
    "5. Multi-collinearity between predictors\n",
    "\n",
    "\n",
    "# Goal\n",
    "\n",
    "Candidate should:\n",
    "\n",
    "1. One hot encode categorical data\n",
    "2. Get regression to run\n",
    "3. Check fitness of model and make sure they deal with overfitting\n",
    "4. Scale data (bonus)\n",
    "5. Identify multicollinearity (bonus)\n",
    "6. Deal with multicollinearity (bonus)\n",
    "\n",
    "\n",
    "Target equation:\n",
    "\n",
    "$$ y = coef1(x1) + coef2(x2)^2 + coef3(x3)^3 + coef4(x4)^3 + coef5(x3)^2 + \\beta $$\n",
    "\n",
    "multicollinearity between coef3, 4, 5. Coef5 should be ~90% explained by coef3 and coef4\n",
    "\n"
   ]
  },
  {
   "cell_type": "code",
   "execution_count": 78,
   "metadata": {},
   "outputs": [],
   "source": [
    "coef1 = -0.734\n",
    "coef2 = 128.624\n",
    "coef3 = 0.9899\n",
    "coef4 = 27.125\n",
    "coef5 = 0.00027\n",
    "coef6 = 12.76\n",
    "coef7 = -8.25\n",
    "coef8 = 0.02\n",
    "\n"
   ]
  },
  {
   "cell_type": "code",
   "execution_count": 79,
   "metadata": {},
   "outputs": [],
   "source": [
    "df['target'] = target"
   ]
  },
  {
   "cell_type": "code",
   "execution_count": 86,
   "metadata": {},
   "outputs": [],
   "source": [
    "choices = ['car', 'bus', 'train']\n",
    "x6 = np.random.choice(choices, size=(1000),)\n",
    "df['x6'] = x6"
   ]
  },
  {
   "cell_type": "code",
   "execution_count": 95,
   "metadata": {},
   "outputs": [],
   "source": [
    "df = pd.get_dummies(df)"
   ]
  },
  {
   "cell_type": "code",
   "execution_count": 96,
   "metadata": {},
   "outputs": [
    {
     "data": {
      "text/html": [
       "<div>\n",
       "<style scoped>\n",
       "    .dataframe tbody tr th:only-of-type {\n",
       "        vertical-align: middle;\n",
       "    }\n",
       "\n",
       "    .dataframe tbody tr th {\n",
       "        vertical-align: top;\n",
       "    }\n",
       "\n",
       "    .dataframe thead th {\n",
       "        text-align: right;\n",
       "    }\n",
       "</style>\n",
       "<table border=\"1\" class=\"dataframe\">\n",
       "  <thead>\n",
       "    <tr style=\"text-align: right;\">\n",
       "      <th></th>\n",
       "      <th>x1</th>\n",
       "      <th>x2</th>\n",
       "      <th>x3</th>\n",
       "      <th>x4</th>\n",
       "      <th>x5</th>\n",
       "      <th>target</th>\n",
       "      <th>x6_bus</th>\n",
       "      <th>x6_car</th>\n",
       "      <th>x6_train</th>\n",
       "    </tr>\n",
       "  </thead>\n",
       "  <tbody>\n",
       "    <tr>\n",
       "      <th>0</th>\n",
       "      <td>0</td>\n",
       "      <td>52</td>\n",
       "      <td>3.288021</td>\n",
       "      <td>141.013086</td>\n",
       "      <td>32108.716028</td>\n",
       "      <td>10618.329486</td>\n",
       "      <td>0</td>\n",
       "      <td>0</td>\n",
       "      <td>1</td>\n",
       "    </tr>\n",
       "    <tr>\n",
       "      <th>1</th>\n",
       "      <td>1</td>\n",
       "      <td>41</td>\n",
       "      <td>4.413111</td>\n",
       "      <td>-199.960698</td>\n",
       "      <td>-34869.852822</td>\n",
       "      <td>2402.932138</td>\n",
       "      <td>0</td>\n",
       "      <td>1</td>\n",
       "      <td>0</td>\n",
       "    </tr>\n",
       "    <tr>\n",
       "      <th>2</th>\n",
       "      <td>1</td>\n",
       "      <td>37</td>\n",
       "      <td>1.351506</td>\n",
       "      <td>-55.315504</td>\n",
       "      <td>-9922.800839</td>\n",
       "      <td>6261.927785</td>\n",
       "      <td>0</td>\n",
       "      <td>1</td>\n",
       "      <td>0</td>\n",
       "    </tr>\n",
       "    <tr>\n",
       "      <th>3</th>\n",
       "      <td>0</td>\n",
       "      <td>31</td>\n",
       "      <td>0.078617</td>\n",
       "      <td>260.223300</td>\n",
       "      <td>52042.441959</td>\n",
       "      <td>9204.933455</td>\n",
       "      <td>0</td>\n",
       "      <td>0</td>\n",
       "      <td>1</td>\n",
       "    </tr>\n",
       "    <tr>\n",
       "      <th>4</th>\n",
       "      <td>1</td>\n",
       "      <td>80</td>\n",
       "      <td>2.038122</td>\n",
       "      <td>166.889498</td>\n",
       "      <td>35700.150303</td>\n",
       "      <td>14304.047161</td>\n",
       "      <td>0</td>\n",
       "      <td>1</td>\n",
       "      <td>0</td>\n",
       "    </tr>\n",
       "  </tbody>\n",
       "</table>\n",
       "</div>"
      ],
      "text/plain": [
       "   x1  x2        x3          x4            x5        target  x6_bus  x6_car  \\\n",
       "0   0  52  3.288021  141.013086  32108.716028  10618.329486       0       0   \n",
       "1   1  41  4.413111 -199.960698 -34869.852822   2402.932138       0       1   \n",
       "2   1  37  1.351506  -55.315504  -9922.800839   6261.927785       0       1   \n",
       "3   0  31  0.078617  260.223300  52042.441959   9204.933455       0       0   \n",
       "4   1  80  2.038122  166.889498  35700.150303  14304.047161       0       1   \n",
       "\n",
       "   x6_train  \n",
       "0         1  \n",
       "1         0  \n",
       "2         0  \n",
       "3         1  \n",
       "4         0  "
      ]
     },
     "execution_count": 96,
     "metadata": {},
     "output_type": "execute_result"
    }
   ],
   "source": [
    "df.head()"
   ]
  },
  {
   "cell_type": "code",
   "execution_count": 97,
   "metadata": {},
   "outputs": [],
   "source": [
    "target = (coef1 * df.x1) + (coef2 * df.x2) + (coef3 * df.x3) + (coef4 * df.x4) + (coef5 * df.x5)  + (coef6 * df.x6_bus)  + (coef7 * df.x6_car)  + (coef8 * df.x6_train)\n",
    "target_scale = np.random.normal(scale=2500, size=(1000),)\n",
    "target += np.random.normal(scale=np.abs(target_scale), size=(1000),)"
   ]
  },
  {
   "cell_type": "code",
   "execution_count": 98,
   "metadata": {},
   "outputs": [],
   "source": [
    "df['target'] = target"
   ]
  },
  {
   "cell_type": "code",
   "execution_count": 99,
   "metadata": {},
   "outputs": [],
   "source": [
    "import statsmodels.api as sm"
   ]
  },
  {
   "cell_type": "code",
   "execution_count": 100,
   "metadata": {},
   "outputs": [],
   "source": [
    "ols = sm.OLS(df.target, df.drop('target', axis=1, inplace=False))"
   ]
  },
  {
   "cell_type": "code",
   "execution_count": 101,
   "metadata": {},
   "outputs": [
    {
     "data": {
      "text/html": [
       "<table class=\"simpletable\">\n",
       "<caption>OLS Regression Results</caption>\n",
       "<tr>\n",
       "  <th>Dep. Variable:</th>         <td>target</td>      <th>  R-squared:         </th> <td>   0.913</td> \n",
       "</tr>\n",
       "<tr>\n",
       "  <th>Model:</th>                   <td>OLS</td>       <th>  Adj. R-squared:    </th> <td>   0.912</td> \n",
       "</tr>\n",
       "<tr>\n",
       "  <th>Method:</th>             <td>Least Squares</td>  <th>  F-statistic:       </th> <td>   1489.</td> \n",
       "</tr>\n",
       "<tr>\n",
       "  <th>Date:</th>             <td>Thu, 13 Dec 2018</td> <th>  Prob (F-statistic):</th>  <td>  0.00</td>  \n",
       "</tr>\n",
       "<tr>\n",
       "  <th>Time:</th>                 <td>08:36:41</td>     <th>  Log-Likelihood:    </th> <td> -9194.3</td> \n",
       "</tr>\n",
       "<tr>\n",
       "  <th>No. Observations:</th>      <td>  1000</td>      <th>  AIC:               </th> <td>1.840e+04</td>\n",
       "</tr>\n",
       "<tr>\n",
       "  <th>Df Residuals:</th>          <td>   992</td>      <th>  BIC:               </th> <td>1.844e+04</td>\n",
       "</tr>\n",
       "<tr>\n",
       "  <th>Df Model:</th>              <td>     7</td>      <th>                     </th>     <td> </td>    \n",
       "</tr>\n",
       "<tr>\n",
       "  <th>Covariance Type:</th>      <td>nonrobust</td>    <th>                     </th>     <td> </td>    \n",
       "</tr>\n",
       "</table>\n",
       "<table class=\"simpletable\">\n",
       "<tr>\n",
       "      <td></td>        <th>coef</th>     <th>std err</th>      <th>t</th>      <th>P>|t|</th>  <th>[0.025</th>    <th>0.975]</th>  \n",
       "</tr>\n",
       "<tr>\n",
       "  <th>x1</th>       <td>   62.2910</td> <td>  151.771</td> <td>    0.410</td> <td> 0.682</td> <td> -235.538</td> <td>  360.120</td>\n",
       "</tr>\n",
       "<tr>\n",
       "  <th>x2</th>       <td>  127.2149</td> <td>    2.740</td> <td>   46.424</td> <td> 0.000</td> <td>  121.837</td> <td>  132.592</td>\n",
       "</tr>\n",
       "<tr>\n",
       "  <th>x3</th>       <td>  102.9209</td> <td>  302.495</td> <td>    0.340</td> <td> 0.734</td> <td> -490.682</td> <td>  696.524</td>\n",
       "</tr>\n",
       "<tr>\n",
       "  <th>x4</th>       <td>   40.7100</td> <td>   50.609</td> <td>    0.804</td> <td> 0.421</td> <td>  -58.602</td> <td>  140.022</td>\n",
       "</tr>\n",
       "<tr>\n",
       "  <th>x5</th>       <td>   -0.0651</td> <td>    0.252</td> <td>   -0.258</td> <td> 0.796</td> <td>   -0.560</td> <td>    0.430</td>\n",
       "</tr>\n",
       "<tr>\n",
       "  <th>x6_bus</th>   <td>   99.1729</td> <td>  261.793</td> <td>    0.379</td> <td> 0.705</td> <td> -414.558</td> <td>  612.904</td>\n",
       "</tr>\n",
       "<tr>\n",
       "  <th>x6_car</th>   <td>   13.0976</td> <td>  258.265</td> <td>    0.051</td> <td> 0.960</td> <td> -493.712</td> <td>  519.907</td>\n",
       "</tr>\n",
       "<tr>\n",
       "  <th>x6_train</th> <td>  158.4486</td> <td>  269.535</td> <td>    0.588</td> <td> 0.557</td> <td> -370.475</td> <td>  687.372</td>\n",
       "</tr>\n",
       "</table>\n",
       "<table class=\"simpletable\">\n",
       "<tr>\n",
       "  <th>Omnibus:</th>       <td>261.459</td> <th>  Durbin-Watson:     </th> <td>   1.971</td>\n",
       "</tr>\n",
       "<tr>\n",
       "  <th>Prob(Omnibus):</th> <td> 0.000</td>  <th>  Jarque-Bera (JB):  </th> <td>2285.126</td>\n",
       "</tr>\n",
       "<tr>\n",
       "  <th>Skew:</th>          <td> 0.939</td>  <th>  Prob(JB):          </th> <td>    0.00</td>\n",
       "</tr>\n",
       "<tr>\n",
       "  <th>Kurtosis:</th>      <td>10.164</td>  <th>  Cond. No.          </th> <td>4.40e+05</td>\n",
       "</tr>\n",
       "</table><br/><br/>Warnings:<br/>[1] Standard Errors assume that the covariance matrix of the errors is correctly specified.<br/>[2] The condition number is large, 4.4e+05. This might indicate that there are<br/>strong multicollinearity or other numerical problems."
      ],
      "text/plain": [
       "<class 'statsmodels.iolib.summary.Summary'>\n",
       "\"\"\"\n",
       "                            OLS Regression Results                            \n",
       "==============================================================================\n",
       "Dep. Variable:                 target   R-squared:                       0.913\n",
       "Model:                            OLS   Adj. R-squared:                  0.912\n",
       "Method:                 Least Squares   F-statistic:                     1489.\n",
       "Date:                Thu, 13 Dec 2018   Prob (F-statistic):               0.00\n",
       "Time:                        08:36:41   Log-Likelihood:                -9194.3\n",
       "No. Observations:                1000   AIC:                         1.840e+04\n",
       "Df Residuals:                     992   BIC:                         1.844e+04\n",
       "Df Model:                           7                                         \n",
       "Covariance Type:            nonrobust                                         \n",
       "==============================================================================\n",
       "                 coef    std err          t      P>|t|      [0.025      0.975]\n",
       "------------------------------------------------------------------------------\n",
       "x1            62.2910    151.771      0.410      0.682    -235.538     360.120\n",
       "x2           127.2149      2.740     46.424      0.000     121.837     132.592\n",
       "x3           102.9209    302.495      0.340      0.734    -490.682     696.524\n",
       "x4            40.7100     50.609      0.804      0.421     -58.602     140.022\n",
       "x5            -0.0651      0.252     -0.258      0.796      -0.560       0.430\n",
       "x6_bus        99.1729    261.793      0.379      0.705    -414.558     612.904\n",
       "x6_car        13.0976    258.265      0.051      0.960    -493.712     519.907\n",
       "x6_train     158.4486    269.535      0.588      0.557    -370.475     687.372\n",
       "==============================================================================\n",
       "Omnibus:                      261.459   Durbin-Watson:                   1.971\n",
       "Prob(Omnibus):                  0.000   Jarque-Bera (JB):             2285.126\n",
       "Skew:                           0.939   Prob(JB):                         0.00\n",
       "Kurtosis:                      10.164   Cond. No.                     4.40e+05\n",
       "==============================================================================\n",
       "\n",
       "Warnings:\n",
       "[1] Standard Errors assume that the covariance matrix of the errors is correctly specified.\n",
       "[2] The condition number is large, 4.4e+05. This might indicate that there are\n",
       "strong multicollinearity or other numerical problems.\n",
       "\"\"\""
      ]
     },
     "execution_count": 101,
     "metadata": {},
     "output_type": "execute_result"
    }
   ],
   "source": [
    "ols.fit().summary()"
   ]
  },
  {
   "cell_type": "code",
   "execution_count": null,
   "metadata": {},
   "outputs": [],
   "source": []
  }
 ],
 "metadata": {
  "kernelspec": {
   "display_name": "Python 3",
   "language": "python",
   "name": "python3"
  },
  "language_info": {
   "codemirror_mode": {
    "name": "ipython",
    "version": 3
   },
   "file_extension": ".py",
   "mimetype": "text/x-python",
   "name": "python",
   "nbconvert_exporter": "python",
   "pygments_lexer": "ipython3",
   "version": "3.6.7"
  }
 },
 "nbformat": 4,
 "nbformat_minor": 2
}
